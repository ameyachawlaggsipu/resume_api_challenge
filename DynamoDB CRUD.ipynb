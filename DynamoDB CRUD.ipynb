{
 "cells": [
  {
   "cell_type": "code",
   "execution_count": 1,
   "id": "9870220b-3200-4396-a77f-7f4d8eaf4387",
   "metadata": {},
   "outputs": [],
   "source": [
    "import boto3"
   ]
  },
  {
   "cell_type": "code",
   "execution_count": 2,
   "id": "b6bf5a8f-91fb-4a7b-83d7-c7e01a746373",
   "metadata": {},
   "outputs": [],
   "source": [
    "# Creating dynamodb resource\n",
    "dynamodb = boto3.resource('dynamodb')"
   ]
  },
  {
   "cell_type": "code",
   "execution_count": 5,
   "id": "56d04c6a-6053-47b1-879b-65fac51a473f",
   "metadata": {},
   "outputs": [],
   "source": [
    "# Creating Table\n",
    "table = dynamodb.create_table(\n",
    "    TableName = 'Resume',\n",
    "    KeySchema = [\n",
    "      {\n",
    "          'AttributeName' : 'id',\n",
    "          'KeyType' : 'HASH',\n",
    "      }  \n",
    "    ],\n",
    "    AttributeDefinitions = [\n",
    "        {\n",
    "          'AttributeName' : 'id',\n",
    "          'AttributeType' : 'S',\n",
    "        }\n",
    "    ],\n",
    "    ProvisionedThroughput = {\n",
    "            'ReadCapacityUnits' : 5,\n",
    "            'WriteCapacityUnits' : 5\n",
    "        }\n",
    "    \n",
    ")"
   ]
  },
  {
   "cell_type": "code",
   "execution_count": 13,
   "id": "dbfe5c6b-1d46-4fe7-bc49-452ef65afd92",
   "metadata": {},
   "outputs": [
    {
     "name": "stdout",
     "output_type": "stream",
     "text": [
      "Table status: ACTIVE\n"
     ]
    }
   ],
   "source": [
    "table.reload()\n",
    "print(\"Table status:\", table.table_status)"
   ]
  },
  {
   "cell_type": "code",
   "execution_count": 17,
   "id": "9cf925ac-3509-4f91-9909-d1c017d1dd0e",
   "metadata": {},
   "outputs": [],
   "source": [
    "#Function to add Data\n",
    "def add_resume(id, name, email, school, skills):\n",
    "    table.put_item(\n",
    "        Item = {\n",
    "            'id' : id,\n",
    "            'name' : name,\n",
    "            'email' : email,\n",
    "            'school' : school,\n",
    "            'skills' : skills\n",
    "        }\n",
    "    )"
   ]
  },
  {
   "cell_type": "code",
   "execution_count": 18,
   "id": "a153ba40-7a17-42f5-b026-d8f7863e9ffb",
   "metadata": {},
   "outputs": [],
   "source": [
    "#Sample Data\n",
    "resume_data = {\n",
    "    'id' : '1',\n",
    "    'name' : 'John Doe',\n",
    "    'email' : 'jd@jdnoname.com',\n",
    "    'school' : 'oxford',\n",
    "    'skills' : ['Python', 'AWS']\n",
    "    \n",
    "}"
   ]
  },
  {
   "cell_type": "code",
   "execution_count": 20,
   "id": "01b62238-e36e-492e-a742-ecd97b560423",
   "metadata": {},
   "outputs": [],
   "source": [
    "add_resume(**resume_data)"
   ]
  },
  {
   "cell_type": "code",
   "execution_count": 21,
   "id": "a9b6d6b4-9291-415c-8b7b-09d887d2b1d4",
   "metadata": {},
   "outputs": [
    {
     "data": {
      "text/plain": [
       "{'Items': [{'school': 'oxford',\n",
       "   'skills': ['Python', 'AWS'],\n",
       "   'id': '1',\n",
       "   'email': 'jd@jdnoname.com',\n",
       "   'name': 'John Doe'}],\n",
       " 'Count': 1,\n",
       " 'ScannedCount': 1,\n",
       " 'ResponseMetadata': {'RequestId': '015LN80URUOAJJR3IEVJJGLOQ7VV4KQNSO5AEMVJF66Q9ASUAAJG',\n",
       "  'HTTPStatusCode': 200,\n",
       "  'HTTPHeaders': {'server': 'Server',\n",
       "   'date': 'Fri, 28 Jun 2024 19:38:04 GMT',\n",
       "   'content-type': 'application/x-amz-json-1.0',\n",
       "   'content-length': '179',\n",
       "   'connection': 'keep-alive',\n",
       "   'x-amzn-requestid': '015LN80URUOAJJR3IEVJJGLOQ7VV4KQNSO5AEMVJF66Q9ASUAAJG',\n",
       "   'x-amz-crc32': '353703381'},\n",
       "  'RetryAttempts': 0}}"
      ]
     },
     "execution_count": 21,
     "metadata": {},
     "output_type": "execute_result"
    }
   ],
   "source": [
    "# Table data view\n",
    "table.scan()"
   ]
  },
  {
   "cell_type": "code",
   "execution_count": 26,
   "id": "7a079742-3c2f-455d-a53d-c67c9f564954",
   "metadata": {},
   "outputs": [
    {
     "name": "stdout",
     "output_type": "stream",
     "text": [
      "[{'school': 'oxford', 'skills': ['Python', 'AWS'], 'id': '1', 'email': 'jd@jdnoname.com', 'name': 'John Doe'}]\n"
     ]
    }
   ],
   "source": [
    "# Query the table for resume id 1\n",
    "\n",
    "def query_resume_by_id(id):\n",
    "    response = table.query(\n",
    "        KeyConditionExpression=boto3.dynamodb.conditions.Key('id').eq(id)\n",
    "    )\n",
    "    items = response['Items']\n",
    "    return items\n",
    "\n",
    "resume = query_resume_by_id('1')\n",
    "\n",
    "print(resume)"
   ]
  },
  {
   "cell_type": "code",
   "execution_count": 27,
   "id": "15d292d5-3f99-4d90-bef9-7b04dabb5a6e",
   "metadata": {},
   "outputs": [],
   "source": [
    "#Sample Data\n",
    "resume_data2 = {\n",
    "    'id' : '2',\n",
    "    'name' : 'Jonathon Doe',\n",
    "    'email' : 'jd@jdnoname.com',\n",
    "    'school' : 'oxford',\n",
    "    'skills' : ['Python', 'AWS']\n",
    "    \n",
    "}"
   ]
  },
  {
   "cell_type": "code",
   "execution_count": 28,
   "id": "2aae7d4e-50bd-494f-9d7a-7509e5042be0",
   "metadata": {},
   "outputs": [],
   "source": [
    "add_resume(**resume_data2)"
   ]
  },
  {
   "cell_type": "code",
   "execution_count": 29,
   "id": "31567e47-3e67-43b3-bbc6-21fbe13fc21c",
   "metadata": {},
   "outputs": [
    {
     "data": {
      "text/plain": [
       "{'Items': [{'school': 'oxford',\n",
       "   'skills': ['Python', 'AWS'],\n",
       "   'id': '2',\n",
       "   'email': 'jd@jdnoname.com',\n",
       "   'name': 'Jonathon Doe'},\n",
       "  {'school': 'oxford',\n",
       "   'skills': ['Python', 'AWS'],\n",
       "   'id': '1',\n",
       "   'email': 'jd@jdnoname.com',\n",
       "   'name': 'John Doe'}],\n",
       " 'Count': 2,\n",
       " 'ScannedCount': 2,\n",
       " 'ResponseMetadata': {'RequestId': 'CGSB18M11I7238H570M7PE91HVVV4KQNSO5AEMVJF66Q9ASUAAJG',\n",
       "  'HTTPStatusCode': 200,\n",
       "  'HTTPHeaders': {'server': 'Server',\n",
       "   'date': 'Fri, 28 Jun 2024 19:46:24 GMT',\n",
       "   'content-type': 'application/x-amz-json-1.0',\n",
       "   'content-length': '324',\n",
       "   'connection': 'keep-alive',\n",
       "   'x-amzn-requestid': 'CGSB18M11I7238H570M7PE91HVVV4KQNSO5AEMVJF66Q9ASUAAJG',\n",
       "   'x-amz-crc32': '968719762'},\n",
       "  'RetryAttempts': 0}}"
      ]
     },
     "execution_count": 29,
     "metadata": {},
     "output_type": "execute_result"
    }
   ],
   "source": [
    "#Viewing after adding second resume\n",
    "\n",
    "table.scan()"
   ]
  },
  {
   "cell_type": "code",
   "execution_count": 31,
   "id": "60dae1f5-b236-4f80-afcc-d762a5d23c3b",
   "metadata": {},
   "outputs": [
    {
     "name": "stdout",
     "output_type": "stream",
     "text": [
      "[{'school': 'oxford', 'skills': ['Python', 'AWS'], 'id': '2', 'email': 'jd@jdnoname.com', 'name': 'Jonathon Doe'}]\n"
     ]
    }
   ],
   "source": [
    "# Searching second resume\n",
    "\n",
    "resume = query_resume_by_id('2')\n",
    "\n",
    "print(resume)"
   ]
  },
  {
   "cell_type": "code",
   "execution_count": 39,
   "id": "4a3c7e10-3672-40a9-8d18-0ae6e1ffee3c",
   "metadata": {},
   "outputs": [],
   "source": [
    "# Function to delete item\n",
    "def delete_resume_by_id(id):\n",
    "    try:\n",
    "        response = table.delete_item(\n",
    "            Key={\n",
    "                'id': id\n",
    "            }\n",
    "        )\n",
    "        print(f\"Successfully deleted item with id '{id}\")\n",
    "    except Exception as e:\n",
    "        print(f\"Error deleting item: {e}\")\n"
   ]
  },
  {
   "cell_type": "code",
   "execution_count": 40,
   "id": "2a0b52a4-d5f5-4085-8669-4d2f081ea238",
   "metadata": {},
   "outputs": [
    {
     "name": "stdout",
     "output_type": "stream",
     "text": [
      "Successfully deleted item with id '2\n"
     ]
    }
   ],
   "source": [
    "delete_resume_by_id('2')"
   ]
  },
  {
   "cell_type": "code",
   "execution_count": 47,
   "id": "e6a55ffc-8e21-43bc-8f1a-132f5dcde7cb",
   "metadata": {},
   "outputs": [],
   "source": [
    "response = table.get_item(Key = {'id' : '1'})\n",
    "item = response.get('Item')"
   ]
  },
  {
   "cell_type": "code",
   "execution_count": 48,
   "id": "d6cc27d3-833b-4775-a13f-e4016609f6c3",
   "metadata": {},
   "outputs": [
    {
     "data": {
      "text/plain": [
       "{'school': 'oxford',\n",
       " 'skills': ['Python', 'AWS'],\n",
       " 'id': '1',\n",
       " 'email': 'jd@jdnoname.com',\n",
       " 'name': 'John Doe'}"
      ]
     },
     "execution_count": 48,
     "metadata": {},
     "output_type": "execute_result"
    }
   ],
   "source": [
    "item"
   ]
  },
  {
   "cell_type": "code",
   "execution_count": null,
   "id": "d7cd053b-c8bb-4a7d-9083-ddea5b306dfd",
   "metadata": {},
   "outputs": [],
   "source": []
  }
 ],
 "metadata": {
  "kernelspec": {
   "display_name": "Python 3 (ipykernel)",
   "language": "python",
   "name": "python3"
  },
  "language_info": {
   "codemirror_mode": {
    "name": "ipython",
    "version": 3
   },
   "file_extension": ".py",
   "mimetype": "text/x-python",
   "name": "python",
   "nbconvert_exporter": "python",
   "pygments_lexer": "ipython3",
   "version": "3.12.2"
  }
 },
 "nbformat": 4,
 "nbformat_minor": 5
}
